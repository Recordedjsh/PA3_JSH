{
 "cells": [
  {
   "cell_type": "markdown",
   "id": "0863e102",
   "metadata": {},
   "source": [
    "# Programming Assignment 3 on lists and tuple\n",
    "## Jackson Hay\n",
    "### Freshman"
   ]
  },
  {
   "cell_type": "code",
   "execution_count": 1,
   "id": "83636974",
   "metadata": {},
   "outputs": [
    {
     "name": "stdout",
     "output_type": "stream",
     "text": [
      "[5, '10', '30', '40', '50', '60']\n"
     ]
    }
   ],
   "source": [
    "numbers=['10','20','30','40','50']\n",
    "numbers.append('60')\n",
    "numbers.insert(0,5)\n",
    "del numbers[2]\n",
    "print(numbers)"
   ]
  },
  {
   "cell_type": "code",
   "execution_count": 2,
   "id": "03feb03e",
   "metadata": {},
   "outputs": [],
   "source": [
    "my_tuple=(\"Monday\",\"Tuesday\",\"Wednesday\",\"Thursday\",\"Friday\",\"Saturday\",\"Sunday\")"
   ]
  },
  {
   "cell_type": "code",
   "execution_count": 3,
   "id": "1eb77d80",
   "metadata": {},
   "outputs": [
    {
     "data": {
      "text/plain": [
       "'Wednesday'"
      ]
     },
     "execution_count": 3,
     "metadata": {},
     "output_type": "execute_result"
    }
   ],
   "source": [
    "my_tuple[2]"
   ]
  },
  {
   "cell_type": "code",
   "execution_count": 4,
   "id": "7eb25ef7",
   "metadata": {},
   "outputs": [],
   "source": [
    "#Cannot modify tuple\n",
    "#my_tuple.insert(1,Funday)"
   ]
  },
  {
   "cell_type": "code",
   "execution_count": 5,
   "id": "79d72278",
   "metadata": {},
   "outputs": [],
   "source": [
    "student_tuple=(\"Jackson\",\"Hay\",\"19\",\"Japanese\")"
   ]
  },
  {
   "cell_type": "code",
   "execution_count": 6,
   "id": "8726cfc0",
   "metadata": {},
   "outputs": [
    {
     "name": "stdout",
     "output_type": "stream",
     "text": [
      "first Jackson\n",
      "last Hay\n",
      "age 19\n",
      "subject Japanese\n"
     ]
    }
   ],
   "source": [
    "first, last, age, subject=student_tuple\n",
    "print(\"first\", first)\n",
    "print(\"last\", last)\n",
    "print(\"age\", age)\n",
    "print(\"subject\", subject)"
   ]
  },
  {
   "cell_type": "code",
   "execution_count": 7,
   "id": "16724796",
   "metadata": {},
   "outputs": [
    {
     "data": {
      "text/plain": [
       "5"
      ]
     },
     "execution_count": 7,
     "metadata": {},
     "output_type": "execute_result"
    }
   ],
   "source": [
    "shopping_list=['apples','oranges','milk','bread','chicken']\n",
    "len(shopping_list)"
   ]
  },
  {
   "cell_type": "code",
   "execution_count": 9,
   "id": "9dd9aaed",
   "metadata": {},
   "outputs": [
    {
     "name": "stdout",
     "output_type": "stream",
     "text": [
      "['apples', 'oranges', 'soda', 'bread', 'chicken']\n"
     ]
    }
   ],
   "source": [
    "shopping_list[2] = \"soda\"\n",
    "print(shopping_list)"
   ]
  },
  {
   "cell_type": "code",
   "execution_count": 10,
   "id": "d6213214",
   "metadata": {},
   "outputs": [
    {
     "data": {
      "text/plain": [
       "['apples', 'bread', 'chicken', 'oranges', 'soda']"
      ]
     },
     "execution_count": 10,
     "metadata": {},
     "output_type": "execute_result"
    }
   ],
   "source": [
    "sorted(shopping_list)"
   ]
  }
 ],
 "metadata": {
  "kernelspec": {
   "display_name": "Python 3 (ipykernel)",
   "language": "python",
   "name": "python3"
  },
  "language_info": {
   "codemirror_mode": {
    "name": "ipython",
    "version": 3
   },
   "file_extension": ".py",
   "mimetype": "text/x-python",
   "name": "python",
   "nbconvert_exporter": "python",
   "pygments_lexer": "ipython3",
   "version": "3.11.4"
  }
 },
 "nbformat": 4,
 "nbformat_minor": 5
}
